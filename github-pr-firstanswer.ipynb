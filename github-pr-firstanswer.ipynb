{
 "cells": [
  {
   "cell_type": "code",
   "execution_count": 1,
   "metadata": {
    "execution": {
     "iopub.execute_input": "2021-04-24T23:08:15.977073Z",
     "iopub.status.busy": "2021-04-24T23:08:15.976615Z",
     "iopub.status.idle": "2021-04-24T23:08:16.266567Z",
     "shell.execute_reply": "2021-04-24T23:08:16.265976Z"
    },
    "tags": []
   },
   "outputs": [],
   "source": [
    "import pandas as pd\n",
    "import sqlite3\n",
    "import matplotlib.pyplot as plt\n",
    "import numpy as np\n",
    "from opm import util"
   ]
  },
  {
   "cell_type": "code",
   "execution_count": 2,
   "metadata": {
    "execution": {
     "iopub.execute_input": "2021-04-24T23:08:16.269270Z",
     "iopub.status.busy": "2021-04-24T23:08:16.268911Z",
     "iopub.status.idle": "2021-04-24T23:08:16.270744Z",
     "shell.execute_reply": "2021-04-24T23:08:16.270372Z"
    }
   },
   "outputs": [],
   "source": [
    "sql = '''\n",
    "select pr.author as prauthor,pr.createdat,first_comment.*, strftime(\"%s\", first_comment.date) - strftime(\"%s\", pr.createdat) as first_comment\n",
    "from (select org, repo, identifier, date, author\n",
    "      from github_contribution\n",
    "      where type != \"PR_CREATED\"\n",
    "        AND author != owner\n",
    "        and author not in ('codecov-commenter', 'sonarcloud', 'github-actions', 'hadoop-yetus')\n",
    "      group by org, repo, identifier\n",
    "      having min(date)) as first_comment\n",
    "         left join github_pr as pr\n",
    "                   on pr.org = first_comment.org AND pr.repo = first_comment.repo AND pr.number = first_comment.identifier\n",
    "order by first_comment desc;\n",
    "'''"
   ]
  },
  {
   "cell_type": "code",
   "execution_count": 3,
   "metadata": {
    "execution": {
     "iopub.execute_input": "2021-04-24T23:08:16.273109Z",
     "iopub.status.busy": "2021-04-24T23:08:16.272752Z",
     "iopub.status.idle": "2021-04-24T23:08:16.567111Z",
     "shell.execute_reply": "2021-04-24T23:08:16.566721Z"
    }
   },
   "outputs": [],
   "source": [
    "\n",
    "conn = sqlite3.connect('sqlite-database.db')\n",
    "first_comments = pd.read_sql_query(sql, conn, parse_dates=[\"createdat\"])\n"
   ]
  },
  {
   "cell_type": "code",
   "execution_count": 4,
   "metadata": {
    "execution": {
     "iopub.execute_input": "2021-04-24T23:08:16.569650Z",
     "iopub.status.busy": "2021-04-24T23:08:16.569286Z",
     "iopub.status.idle": "2021-04-24T23:08:16.572151Z",
     "shell.execute_reply": "2021-04-24T23:08:16.571776Z"
    },
    "tags": []
   },
   "outputs": [],
   "source": [
    "first_comments[\"days\"] = first_comments.first_comment / 60 / 60 / 24"
   ]
  },
  {
   "cell_type": "code",
   "execution_count": 5,
   "metadata": {
    "execution": {
     "iopub.execute_input": "2021-04-24T23:08:16.581638Z",
     "iopub.status.busy": "2021-04-24T23:08:16.581226Z",
     "iopub.status.idle": "2021-04-24T23:08:16.587005Z",
     "shell.execute_reply": "2021-04-24T23:08:16.586657Z"
    }
   },
   "outputs": [
    {
     "data": {
      "text/html": [
       "<div>\n",
       "<style scoped>\n",
       "    .dataframe tbody tr th:only-of-type {\n",
       "        vertical-align: middle;\n",
       "    }\n",
       "\n",
       "    .dataframe tbody tr th {\n",
       "        vertical-align: top;\n",
       "    }\n",
       "\n",
       "    .dataframe thead th {\n",
       "        text-align: right;\n",
       "    }\n",
       "</style>\n",
       "<table border=\"1\" class=\"dataframe\">\n",
       "  <thead>\n",
       "    <tr style=\"text-align: right;\">\n",
       "      <th></th>\n",
       "      <th>prauthor</th>\n",
       "      <th>createdat</th>\n",
       "      <th>org</th>\n",
       "      <th>repo</th>\n",
       "      <th>identifier</th>\n",
       "      <th>date</th>\n",
       "      <th>author</th>\n",
       "      <th>first_comment</th>\n",
       "      <th>days</th>\n",
       "    </tr>\n",
       "  </thead>\n",
       "  <tbody>\n",
       "    <tr>\n",
       "      <th>0</th>\n",
       "      <td>hgadre</td>\n",
       "      <td>2019-08-20 23:54:19+00:00</td>\n",
       "      <td>apache</td>\n",
       "      <td>hadoop</td>\n",
       "      <td>1322</td>\n",
       "      <td>2021-02-10T23:54:27Z</td>\n",
       "      <td>aajisaka</td>\n",
       "      <td>46656008</td>\n",
       "      <td>540.000093</td>\n",
       "    </tr>\n",
       "    <tr>\n",
       "      <th>1</th>\n",
       "      <td>shwetayakkali</td>\n",
       "      <td>2019-09-09 22:35:19+00:00</td>\n",
       "      <td>apache</td>\n",
       "      <td>hadoop</td>\n",
       "      <td>1417</td>\n",
       "      <td>2021-02-10T23:55:08Z</td>\n",
       "      <td>aajisaka</td>\n",
       "      <td>44932789</td>\n",
       "      <td>520.055428</td>\n",
       "    </tr>\n",
       "    <tr>\n",
       "      <th>2</th>\n",
       "      <td>bharatviswa504</td>\n",
       "      <td>2019-03-30 17:25:41+00:00</td>\n",
       "      <td>apache</td>\n",
       "      <td>hadoop</td>\n",
       "      <td>670</td>\n",
       "      <td>2019-08-21T20:20:52Z</td>\n",
       "      <td>arp7</td>\n",
       "      <td>12452111</td>\n",
       "      <td>144.121655</td>\n",
       "    </tr>\n",
       "    <tr>\n",
       "      <th>3</th>\n",
       "      <td>sadanand48</td>\n",
       "      <td>2021-01-25 06:47:54+00:00</td>\n",
       "      <td>apache</td>\n",
       "      <td>ozone</td>\n",
       "      <td>1840</td>\n",
       "      <td>2021-04-12T17:03:49Z</td>\n",
       "      <td>mukul1987</td>\n",
       "      <td>6689755</td>\n",
       "      <td>77.427720</td>\n",
       "    </tr>\n",
       "    <tr>\n",
       "      <th>4</th>\n",
       "      <td>cxorm</td>\n",
       "      <td>2020-08-07 09:20:30+00:00</td>\n",
       "      <td>apache</td>\n",
       "      <td>ozone</td>\n",
       "      <td>1301</td>\n",
       "      <td>2020-10-13T04:06:10Z</td>\n",
       "      <td>xiaoyuyao</td>\n",
       "      <td>5769940</td>\n",
       "      <td>66.781713</td>\n",
       "    </tr>\n",
       "    <tr>\n",
       "      <th>...</th>\n",
       "      <td>...</td>\n",
       "      <td>...</td>\n",
       "      <td>...</td>\n",
       "      <td>...</td>\n",
       "      <td>...</td>\n",
       "      <td>...</td>\n",
       "      <td>...</td>\n",
       "      <td>...</td>\n",
       "      <td>...</td>\n",
       "    </tr>\n",
       "    <tr>\n",
       "      <th>2786</th>\n",
       "      <td>adoroszlai</td>\n",
       "      <td>2019-10-16 04:51:38+00:00</td>\n",
       "      <td>apache</td>\n",
       "      <td>ozone</td>\n",
       "      <td>34</td>\n",
       "      <td>2019-10-16T04:52:28Z</td>\n",
       "      <td>vivekratnavel</td>\n",
       "      <td>50</td>\n",
       "      <td>0.000579</td>\n",
       "    </tr>\n",
       "    <tr>\n",
       "      <th>2787</th>\n",
       "      <td>dineshchitlangia</td>\n",
       "      <td>2019-10-04 20:36:28+00:00</td>\n",
       "      <td>apache</td>\n",
       "      <td>hadoop</td>\n",
       "      <td>1602</td>\n",
       "      <td>2019-10-04T20:37:14Z</td>\n",
       "      <td>anuengineer</td>\n",
       "      <td>46</td>\n",
       "      <td>0.000532</td>\n",
       "    </tr>\n",
       "    <tr>\n",
       "      <th>2788</th>\n",
       "      <td>hanishakoneru</td>\n",
       "      <td>2021-01-08 21:21:26+00:00</td>\n",
       "      <td>apache</td>\n",
       "      <td>ozone</td>\n",
       "      <td>1768</td>\n",
       "      <td>2021-01-08T21:21:55Z</td>\n",
       "      <td>arp7</td>\n",
       "      <td>29</td>\n",
       "      <td>0.000336</td>\n",
       "    </tr>\n",
       "    <tr>\n",
       "      <th>2789</th>\n",
       "      <td>elek</td>\n",
       "      <td>2021-04-09 16:56:50+00:00</td>\n",
       "      <td>apache</td>\n",
       "      <td>ozone-go</td>\n",
       "      <td>4</td>\n",
       "      <td>2021-04-09T16:57:15Z</td>\n",
       "      <td>adoroszlai</td>\n",
       "      <td>25</td>\n",
       "      <td>0.000289</td>\n",
       "    </tr>\n",
       "    <tr>\n",
       "      <th>2790</th>\n",
       "      <td>vivekratnavel</td>\n",
       "      <td>2019-11-21 06:13:26+00:00</td>\n",
       "      <td>apache</td>\n",
       "      <td>ozone</td>\n",
       "      <td>245</td>\n",
       "      <td>2019-11-21T06:13:50Z</td>\n",
       "      <td>bharatviswa504</td>\n",
       "      <td>24</td>\n",
       "      <td>0.000278</td>\n",
       "    </tr>\n",
       "  </tbody>\n",
       "</table>\n",
       "<p>2791 rows × 9 columns</p>\n",
       "</div>"
      ],
      "text/plain": [
       "              prauthor                 createdat     org      repo  \\\n",
       "0               hgadre 2019-08-20 23:54:19+00:00  apache    hadoop   \n",
       "1        shwetayakkali 2019-09-09 22:35:19+00:00  apache    hadoop   \n",
       "2       bharatviswa504 2019-03-30 17:25:41+00:00  apache    hadoop   \n",
       "3           sadanand48 2021-01-25 06:47:54+00:00  apache     ozone   \n",
       "4                cxorm 2020-08-07 09:20:30+00:00  apache     ozone   \n",
       "...                ...                       ...     ...       ...   \n",
       "2786        adoroszlai 2019-10-16 04:51:38+00:00  apache     ozone   \n",
       "2787  dineshchitlangia 2019-10-04 20:36:28+00:00  apache    hadoop   \n",
       "2788     hanishakoneru 2021-01-08 21:21:26+00:00  apache     ozone   \n",
       "2789              elek 2021-04-09 16:56:50+00:00  apache  ozone-go   \n",
       "2790     vivekratnavel 2019-11-21 06:13:26+00:00  apache     ozone   \n",
       "\n",
       "      identifier                  date          author  first_comment  \\\n",
       "0           1322  2021-02-10T23:54:27Z        aajisaka       46656008   \n",
       "1           1417  2021-02-10T23:55:08Z        aajisaka       44932789   \n",
       "2            670  2019-08-21T20:20:52Z            arp7       12452111   \n",
       "3           1840  2021-04-12T17:03:49Z       mukul1987        6689755   \n",
       "4           1301  2020-10-13T04:06:10Z       xiaoyuyao        5769940   \n",
       "...          ...                   ...             ...            ...   \n",
       "2786          34  2019-10-16T04:52:28Z   vivekratnavel             50   \n",
       "2787        1602  2019-10-04T20:37:14Z     anuengineer             46   \n",
       "2788        1768  2021-01-08T21:21:55Z            arp7             29   \n",
       "2789           4  2021-04-09T16:57:15Z      adoroszlai             25   \n",
       "2790         245  2019-11-21T06:13:50Z  bharatviswa504             24   \n",
       "\n",
       "            days  \n",
       "0     540.000093  \n",
       "1     520.055428  \n",
       "2     144.121655  \n",
       "3      77.427720  \n",
       "4      66.781713  \n",
       "...          ...  \n",
       "2786    0.000579  \n",
       "2787    0.000532  \n",
       "2788    0.000336  \n",
       "2789    0.000289  \n",
       "2790    0.000278  \n",
       "\n",
       "[2791 rows x 9 columns]"
      ]
     },
     "execution_count": 1,
     "metadata": {},
     "output_type": "execute_result"
    }
   ],
   "source": [
    "first_comments"
   ]
  },
  {
   "cell_type": "code",
   "execution_count": null,
   "metadata": {},
   "outputs": [],
   "source": []
  },
  {
   "cell_type": "code",
   "execution_count": null,
   "metadata": {},
   "outputs": [],
   "source": []
  },
  {
   "cell_type": "code",
   "execution_count": null,
   "metadata": {
    "tags": []
   },
   "outputs": [],
   "source": []
  },
  {
   "cell_type": "code",
   "execution_count": null,
   "metadata": {},
   "outputs": [],
   "source": []
  },
  {
   "cell_type": "markdown",
   "metadata": {},
   "source": [
    "## Average time until the first response on a PR"
   ]
  },
  {
   "cell_type": "code",
   "execution_count": 6,
   "metadata": {
    "execution": {
     "iopub.execute_input": "2021-04-24T23:08:16.589917Z",
     "iopub.status.busy": "2021-04-24T23:08:16.589454Z",
     "iopub.status.idle": "2021-04-24T23:08:16.591560Z",
     "shell.execute_reply": "2021-04-24T23:08:16.591193Z"
    },
    "tags": []
   },
   "outputs": [
    {
     "data": {
      "text/plain": [
       "3.0929437295141793"
      ]
     },
     "execution_count": 1,
     "metadata": {},
     "output_type": "execute_result"
    }
   ],
   "source": [
    "first_comments.days.mean()\n"
   ]
  },
  {
   "cell_type": "code",
   "execution_count": 7,
   "metadata": {
    "execution": {
     "iopub.execute_input": "2021-04-24T23:08:16.603548Z",
     "iopub.status.busy": "2021-04-24T23:08:16.602390Z",
     "iopub.status.idle": "2021-04-24T23:08:16.671380Z",
     "shell.execute_reply": "2021-04-24T23:08:16.670999Z"
    },
    "tags": []
   },
   "outputs": [
    {
     "data": {
      "image/png": "[encoded data removed]",
      "text/plain": [
       "<Figure size 432x288 with 1 Axes>"
      ]
     },
     "metadata": {
      "needs_background": "light"
     },
     "output_type": "display_data"
    }
   ],
   "source": [
    "\n",
    "fig1, ax1 = plt.subplots()\n",
    "ax1.set_title('Average time until the first response (in days)')\n",
    "ax1.boxplot(first_comments.days)\n",
    "plt.show()\n"
   ]
  },
  {
   "cell_type": "code",
   "execution_count": 8,
   "metadata": {
    "execution": {
     "iopub.execute_input": "2021-04-24T23:08:16.695061Z",
     "iopub.status.busy": "2021-04-24T23:08:16.694673Z",
     "iopub.status.idle": "2021-04-24T23:08:16.947104Z",
     "shell.execute_reply": "2021-04-24T23:08:16.947430Z"
    },
    "tags": []
   },
   "outputs": [
    {
     "data": {
      "image/png": "[encoded data removed]",
      "text/plain": [
       "<Figure size 1008x792 with 2 Axes>"
      ]
     },
     "metadata": {
      "needs_background": "light"
     },
     "output_type": "display_data"
    }
   ],
   "source": [
    "\n",
    "util.create_mosaic(util.create_pivot(first_comments,\"createdat\", \"days\", \"mean\"),\"Reds\")\n",
    "\n",
    "plt.title(\"Days until the first answer on a PR\")\n",
    "plt.show()"
   ]
  },
  {
   "cell_type": "markdown",
   "metadata": {},
   "source": [
    "## Top first responder users (excluding bots)"
   ]
  },
  {
   "cell_type": "code",
   "execution_count": 9,
   "metadata": {
    "execution": {
     "iopub.execute_input": "2021-04-24T23:08:16.953313Z",
     "iopub.status.busy": "2021-04-24T23:08:16.951239Z",
     "iopub.status.idle": "2021-04-24T23:08:16.955572Z",
     "shell.execute_reply": "2021-04-24T23:08:16.955199Z"
    },
    "tags": []
   },
   "outputs": [
    {
     "data": {
      "text/html": [
       "<div>\n",
       "<style scoped>\n",
       "    .dataframe tbody tr th:only-of-type {\n",
       "        vertical-align: middle;\n",
       "    }\n",
       "\n",
       "    .dataframe tbody tr th {\n",
       "        vertical-align: top;\n",
       "    }\n",
       "\n",
       "    .dataframe thead th {\n",
       "        text-align: right;\n",
       "    }\n",
       "</style>\n",
       "<table border=\"1\" class=\"dataframe\">\n",
       "  <thead>\n",
       "    <tr style=\"text-align: right;\">\n",
       "      <th></th>\n",
       "      <th>identifier</th>\n",
       "    </tr>\n",
       "    <tr>\n",
       "      <th>author</th>\n",
       "      <th></th>\n",
       "    </tr>\n",
       "  </thead>\n",
       "  <tbody>\n",
       "    <tr>\n",
       "      <th>adoroszlai</th>\n",
       "      <td>372</td>\n",
       "    </tr>\n",
       "    <tr>\n",
       "      <th>elek</th>\n",
       "      <td>312</td>\n",
       "    </tr>\n",
       "    <tr>\n",
       "      <th>bharatviswa504</th>\n",
       "      <td>279</td>\n",
       "    </tr>\n",
       "    <tr>\n",
       "      <th>xiaoyuyao</th>\n",
       "      <td>269</td>\n",
       "    </tr>\n",
       "    <tr>\n",
       "      <th>anuengineer</th>\n",
       "      <td>152</td>\n",
       "    </tr>\n",
       "    <tr>\n",
       "      <th>arp7</th>\n",
       "      <td>130</td>\n",
       "    </tr>\n",
       "    <tr>\n",
       "      <th>avijayanhwx</th>\n",
       "      <td>125</td>\n",
       "    </tr>\n",
       "    <tr>\n",
       "      <th>bshashikant</th>\n",
       "      <td>123</td>\n",
       "    </tr>\n",
       "    <tr>\n",
       "      <th>mukul1987</th>\n",
       "      <td>113</td>\n",
       "    </tr>\n",
       "    <tr>\n",
       "      <th>dineshchitlangia</th>\n",
       "      <td>93</td>\n",
       "    </tr>\n",
       "  </tbody>\n",
       "</table>\n",
       "</div>"
      ],
      "text/plain": [
       "                  identifier\n",
       "author                      \n",
       "adoroszlai               372\n",
       "elek                     312\n",
       "bharatviswa504           279\n",
       "xiaoyuyao                269\n",
       "anuengineer              152\n",
       "arp7                     130\n",
       "avijayanhwx              125\n",
       "bshashikant              123\n",
       "mukul1987                113\n",
       "dineshchitlangia          93"
      ]
     },
     "execution_count": 1,
     "metadata": {},
     "output_type": "execute_result"
    }
   ],
   "source": [
    "first_comments[[\"identifier\"]].groupby(first_comments.author).count().sort_values(\"identifier\", ascending=False).head(10)"
   ]
  },
  {
   "cell_type": "markdown",
   "metadata": {},
   "source": [
    "## Users who had to wait the most for the first answer"
   ]
  },
  {
   "cell_type": "code",
   "execution_count": 10,
   "metadata": {
    "execution": {
     "iopub.execute_input": "2021-04-24T23:08:16.962523Z",
     "iopub.status.busy": "2021-04-24T23:08:16.962088Z",
     "iopub.status.idle": "2021-04-24T23:08:16.964239Z",
     "shell.execute_reply": "2021-04-24T23:08:16.963864Z"
    },
    "tags": []
   },
   "outputs": [
    {
     "data": {
      "text/html": [
       "<div>\n",
       "<style scoped>\n",
       "    .dataframe tbody tr th:only-of-type {\n",
       "        vertical-align: middle;\n",
       "    }\n",
       "\n",
       "    .dataframe tbody tr th {\n",
       "        vertical-align: top;\n",
       "    }\n",
       "\n",
       "    .dataframe thead th {\n",
       "        text-align: right;\n",
       "    }\n",
       "</style>\n",
       "<table border=\"1\" class=\"dataframe\">\n",
       "  <thead>\n",
       "    <tr style=\"text-align: right;\">\n",
       "      <th></th>\n",
       "      <th>days</th>\n",
       "    </tr>\n",
       "    <tr>\n",
       "      <th>prauthor</th>\n",
       "      <th></th>\n",
       "    </tr>\n",
       "  </thead>\n",
       "  <tbody>\n",
       "    <tr>\n",
       "      <th>hgadre</th>\n",
       "      <td>110.785396</td>\n",
       "    </tr>\n",
       "    <tr>\n",
       "      <th>shwetayakkali</th>\n",
       "      <td>40.583849</td>\n",
       "    </tr>\n",
       "    <tr>\n",
       "      <th>jsoft88</th>\n",
       "      <td>23.966667</td>\n",
       "    </tr>\n",
       "    <tr>\n",
       "      <th>qizhu-lucas</th>\n",
       "      <td>14.870486</td>\n",
       "    </tr>\n",
       "    <tr>\n",
       "      <th>eyanghwx</th>\n",
       "      <td>12.530266</td>\n",
       "    </tr>\n",
       "    <tr>\n",
       "      <th>mookkiah</th>\n",
       "      <td>12.034410</td>\n",
       "    </tr>\n",
       "    <tr>\n",
       "      <th>cxorm</th>\n",
       "      <td>6.889217</td>\n",
       "    </tr>\n",
       "    <tr>\n",
       "      <th>iamabug</th>\n",
       "      <td>6.515687</td>\n",
       "    </tr>\n",
       "    <tr>\n",
       "      <th>symious</th>\n",
       "      <td>6.469619</td>\n",
       "    </tr>\n",
       "    <tr>\n",
       "      <th>errose28</th>\n",
       "      <td>6.027018</td>\n",
       "    </tr>\n",
       "    <tr>\n",
       "      <th>frischHWC</th>\n",
       "      <td>5.527434</td>\n",
       "    </tr>\n",
       "    <tr>\n",
       "      <th>aryangupta1998</th>\n",
       "      <td>5.223003</td>\n",
       "    </tr>\n",
       "    <tr>\n",
       "      <th>masstter</th>\n",
       "      <td>4.839346</td>\n",
       "    </tr>\n",
       "    <tr>\n",
       "      <th>amaliujia</th>\n",
       "      <td>4.805593</td>\n",
       "    </tr>\n",
       "    <tr>\n",
       "      <th>linyiqun</th>\n",
       "      <td>4.708731</td>\n",
       "    </tr>\n",
       "    <tr>\n",
       "      <th>cchenax</th>\n",
       "      <td>4.658734</td>\n",
       "    </tr>\n",
       "    <tr>\n",
       "      <th>captainzmc</th>\n",
       "      <td>4.593880</td>\n",
       "    </tr>\n",
       "    <tr>\n",
       "      <th>sadanand48</th>\n",
       "      <td>4.534940</td>\n",
       "    </tr>\n",
       "    <tr>\n",
       "      <th>maobaolong</th>\n",
       "      <td>4.512042</td>\n",
       "    </tr>\n",
       "    <tr>\n",
       "      <th>hanishakoneru</th>\n",
       "      <td>4.477032</td>\n",
       "    </tr>\n",
       "  </tbody>\n",
       "</table>\n",
       "</div>"
      ],
      "text/plain": [
       "                      days\n",
       "prauthor                  \n",
       "hgadre          110.785396\n",
       "shwetayakkali    40.583849\n",
       "jsoft88          23.966667\n",
       "qizhu-lucas      14.870486\n",
       "eyanghwx         12.530266\n",
       "mookkiah         12.034410\n",
       "cxorm             6.889217\n",
       "iamabug           6.515687\n",
       "symious           6.469619\n",
       "errose28          6.027018\n",
       "frischHWC         5.527434\n",
       "aryangupta1998    5.223003\n",
       "masstter          4.839346\n",
       "amaliujia         4.805593\n",
       "linyiqun          4.708731\n",
       "cchenax           4.658734\n",
       "captainzmc        4.593880\n",
       "sadanand48        4.534940\n",
       "maobaolong        4.512042\n",
       "hanishakoneru     4.477032"
      ]
     },
     "execution_count": 1,
     "metadata": {},
     "output_type": "execute_result"
    }
   ],
   "source": [
    "first_comments[[\"days\"]].groupby(first_comments.prauthor).mean().sort_values(\"days\", ascending=False).head(20)"
   ]
  },
  {
   "cell_type": "markdown",
   "metadata": {},
   "source": [
    "## Users who had to wait the less for the first answer"
   ]
  },
  {
   "cell_type": "code",
   "execution_count": 11,
   "metadata": {
    "execution": {
     "iopub.execute_input": "2021-04-24T23:08:16.970617Z",
     "iopub.status.busy": "2021-04-24T23:08:16.968174Z",
     "iopub.status.idle": "2021-04-24T23:08:16.972845Z",
     "shell.execute_reply": "2021-04-24T23:08:16.972476Z"
    },
    "tags": []
   },
   "outputs": [
    {
     "data": {
      "text/html": [
       "<div>\n",
       "<style scoped>\n",
       "    .dataframe tbody tr th:only-of-type {\n",
       "        vertical-align: middle;\n",
       "    }\n",
       "\n",
       "    .dataframe tbody tr th {\n",
       "        vertical-align: top;\n",
       "    }\n",
       "\n",
       "    .dataframe thead th {\n",
       "        text-align: right;\n",
       "    }\n",
       "</style>\n",
       "<table border=\"1\" class=\"dataframe\">\n",
       "  <thead>\n",
       "    <tr style=\"text-align: right;\">\n",
       "      <th></th>\n",
       "      <th>days</th>\n",
       "    </tr>\n",
       "    <tr>\n",
       "      <th>prauthor</th>\n",
       "      <th></th>\n",
       "    </tr>\n",
       "  </thead>\n",
       "  <tbody>\n",
       "    <tr>\n",
       "      <th>virajjasani</th>\n",
       "      <td>0.002176</td>\n",
       "    </tr>\n",
       "    <tr>\n",
       "      <th>Tartarus0zm</th>\n",
       "      <td>0.004138</td>\n",
       "    </tr>\n",
       "    <tr>\n",
       "      <th>craigcondit</th>\n",
       "      <td>0.011377</td>\n",
       "    </tr>\n",
       "    <tr>\n",
       "      <th>john28152815</th>\n",
       "      <td>0.041759</td>\n",
       "    </tr>\n",
       "    <tr>\n",
       "      <th>jiwq</th>\n",
       "      <td>0.045914</td>\n",
       "    </tr>\n",
       "    <tr>\n",
       "      <th>harindersb</th>\n",
       "      <td>0.050567</td>\n",
       "    </tr>\n",
       "    <tr>\n",
       "      <th>hemanthboyina</th>\n",
       "      <td>0.052199</td>\n",
       "    </tr>\n",
       "    <tr>\n",
       "      <th>kennethlnnn</th>\n",
       "      <td>0.067888</td>\n",
       "    </tr>\n",
       "    <tr>\n",
       "      <th>snemuri</th>\n",
       "      <td>0.098924</td>\n",
       "    </tr>\n",
       "    <tr>\n",
       "      <th>littleboy547</th>\n",
       "      <td>0.129097</td>\n",
       "    </tr>\n",
       "    <tr>\n",
       "      <th>jbampton</th>\n",
       "      <td>0.160446</td>\n",
       "    </tr>\n",
       "    <tr>\n",
       "      <th>rbalamohan</th>\n",
       "      <td>0.162188</td>\n",
       "    </tr>\n",
       "    <tr>\n",
       "      <th>hgruck</th>\n",
       "      <td>0.215324</td>\n",
       "    </tr>\n",
       "    <tr>\n",
       "      <th>dshavkanihort</th>\n",
       "      <td>0.233206</td>\n",
       "    </tr>\n",
       "    <tr>\n",
       "      <th>ByronHsu</th>\n",
       "      <td>0.250417</td>\n",
       "    </tr>\n",
       "    <tr>\n",
       "      <th>wzhallright</th>\n",
       "      <td>0.256481</td>\n",
       "    </tr>\n",
       "    <tr>\n",
       "      <th>JacksonYao287</th>\n",
       "      <td>0.264001</td>\n",
       "    </tr>\n",
       "    <tr>\n",
       "      <th>abhishekaypurohit</th>\n",
       "      <td>0.296655</td>\n",
       "    </tr>\n",
       "    <tr>\n",
       "      <th>ferhui</th>\n",
       "      <td>0.305691</td>\n",
       "    </tr>\n",
       "    <tr>\n",
       "      <th>arp7</th>\n",
       "      <td>0.356175</td>\n",
       "    </tr>\n",
       "  </tbody>\n",
       "</table>\n",
       "</div>"
      ],
      "text/plain": [
       "                       days\n",
       "prauthor                   \n",
       "virajjasani        0.002176\n",
       "Tartarus0zm        0.004138\n",
       "craigcondit        0.011377\n",
       "john28152815       0.041759\n",
       "jiwq               0.045914\n",
       "harindersb         0.050567\n",
       "hemanthboyina      0.052199\n",
       "kennethlnnn        0.067888\n",
       "snemuri            0.098924\n",
       "littleboy547       0.129097\n",
       "jbampton           0.160446\n",
       "rbalamohan         0.162188\n",
       "hgruck             0.215324\n",
       "dshavkanihort      0.233206\n",
       "ByronHsu           0.250417\n",
       "wzhallright        0.256481\n",
       "JacksonYao287      0.264001\n",
       "abhishekaypurohit  0.296655\n",
       "ferhui             0.305691\n",
       "arp7               0.356175"
      ]
     },
     "execution_count": 1,
     "metadata": {},
     "output_type": "execute_result"
    }
   ],
   "source": [
    "first_comments[[\"days\"]].groupby(first_comments.prauthor).mean().sort_values(\"days\", ascending=True).head(20)"
   ]
  }
 ],
 "metadata": {
  "kernelspec": {
   "display_name": "Python 3",
   "language": "python",
   "name": "python3"
  },
  "language_info": {
   "codemirror_mode": {
    "name": "ipython",
    "version": 3
   },
   "file_extension": ".py",
   "mimetype": "text/x-python",
   "name": "python",
   "nbconvert_exporter": "python",
   "pygments_lexer": "ipython3",
   "version": "3.9.2"
  }
 },
 "nbformat": 4,
 "nbformat_minor": 4
}
